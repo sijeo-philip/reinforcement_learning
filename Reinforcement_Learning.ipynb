{
 "cells": [
  {
   "cell_type": "code",
   "execution_count": 1,
   "id": "f25e19a2",
   "metadata": {},
   "outputs": [],
   "source": [
    "import numpy as np"
   ]
  },
  {
   "cell_type": "code",
   "execution_count": 4,
   "id": "7fa7617c",
   "metadata": {},
   "outputs": [],
   "source": [
    "def policy_evaluation(pi, P, gamma=1.0, thetha=1e-10):\n",
    "    \n",
    "    prev_V = np.zeros(len(P))\n",
    "    \n",
    "    while True:\n",
    "        V = np.zeros(len(P))\n",
    "        \n",
    "        for s in range(len(P)):\n",
    "            \n",
    "            for prob, next_state, reward, done in P[s][pi(s)]:\n",
    "                ## Each transition tuple has a probability, next state, reward, and a done flag\n",
    "                ## Indicating whether the 'next_state' is terminal or not\n",
    "                V[s] += prob * (reward + gamma*prev_V[next_state] * (not done))\n",
    "                ## Done flag  is used to ensure the value of the next_state when landing on the terminal\n",
    "                ##state is zero. We don't want infinite sum\n",
    "        if np.max(np.abs(prev_V - V)) < theta:\n",
    "            break\n",
    "        \n",
    "        prev_V = V.copy()\n",
    "    \n",
    "    return V\n",
    "                  "
   ]
  },
  {
   "cell_type": "code",
   "execution_count": 1,
   "id": "42936427",
   "metadata": {},
   "outputs": [],
   "source": [
    "def policy_improvement(V, P, gamma=1.0):\n",
    "    \n",
    "    Q = np.zeros((len(P), len(P[0])), dtype=np.float64)\n",
    "    \n",
    "    for s in range(len(P)):\n",
    "        for a in range(len(P[0])):\n",
    "            for prob, next_state, reward, done in P[s][a]:\n",
    "                Q[s][a] += prob * (reward + gamma *V[next_state]*(not done))\n",
    "                \n",
    "    new_pi = lambda s: {s : a for s , a in enumerate(np.argmax(Q, axis=1))}[s]\n",
    "    \n",
    "    return new_pi"
   ]
  },
  {
   "cell_type": "code",
   "execution_count": 2,
   "id": "14428c79",
   "metadata": {},
   "outputs": [],
   "source": [
    "def policy_iteration(P, gamma=1.0, thetha=1e-10):\n",
    "    \n",
    "    random_actions = np.random.choice(tuple(P[0].keys()), len(P))\n",
    "    \n",
    "    pi = lambda s : {s:a for s, a in enumerate(random_actions)}[s]\n",
    "    \n",
    "    while True:\n",
    "        \n",
    "        old_pi = {s:pi(s) for s in range(len(P))}\n",
    "        \n",
    "        V = policy_evaluation(pi, P, gamma, theta)\n",
    "        \n",
    "        pi = policy_improvement(V, P, gamma)\n",
    "        \n",
    "        if old_pi == {s:pi(s) for s in range(len(P))}:\n",
    "            break\n",
    "            \n",
    "            \n",
    "    return V, pi"
   ]
  },
  {
   "cell_type": "code",
   "execution_count": 3,
   "id": "4dccce63",
   "metadata": {},
   "outputs": [],
   "source": [
    "def value_iteration(P, gamma=1.0, theta=1e-10):\n",
    "    \n",
    "    V = np.zeros(len(P), dtype=np.float64)\n",
    "    \n",
    "    while True:\n",
    "        Q = np.zeros((len(P), len(P[0])), dtype=np.float64)\n",
    "        \n",
    "        for s in range(len(P)):\n",
    "            for a in range(len(P[s])):\n",
    "                for prob, next_state, reward, done in P[s][a]:\n",
    "                    Q[s][a] += prob*(reward + gamma*V[next_state]*(not done))\n",
    "                    \n",
    "        if np.max(np.abs(V - np.max(Q, axis=1))) < theta:\n",
    "            break\n",
    "            \n",
    "        V = np.max(Q, axis=1)\n",
    "        \n",
    "        pi = lambda s: {s:a for s, a in enumerate(np.argmax(Q, axis=1))}[s]\n",
    "        \n",
    "        return V, pi"
   ]
  },
  {
   "cell_type": "code",
   "execution_count": null,
   "id": "72b21eb6",
   "metadata": {},
   "outputs": [],
   "source": []
  }
 ],
 "metadata": {
  "kernelspec": {
   "display_name": "Python 3",
   "language": "python",
   "name": "python3"
  },
  "language_info": {
   "codemirror_mode": {
    "name": "ipython",
    "version": 3
   },
   "file_extension": ".py",
   "mimetype": "text/x-python",
   "name": "python",
   "nbconvert_exporter": "python",
   "pygments_lexer": "ipython3",
   "version": "3.8.8"
  }
 },
 "nbformat": 4,
 "nbformat_minor": 5
}

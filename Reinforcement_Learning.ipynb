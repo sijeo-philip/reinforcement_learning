{
 "cells": [
  {
   "cell_type": "code",
   "execution_count": 1,
   "id": "f25e19a2",
   "metadata": {},
   "outputs": [],
   "source": [
    "import numpy as np"
   ]
  },
  {
   "cell_type": "code",
   "execution_count": 4,
   "id": "7fa7617c",
   "metadata": {},
   "outputs": [],
   "source": [
    "def policy_evaluation(pi, P, gamma=1.0, thetha=1e-10):\n",
    "    \n",
    "    prev_V = np.zeros(len(P))\n",
    "    \n",
    "    while True:\n",
    "        V = np.zeros(len(P))\n",
    "        \n",
    "        for s in range(len(P)):\n",
    "            \n",
    "            for prob, next_state, reward, done in P[s][pi(s)]:\n",
    "                ## Each transition tuple has a probability, next state, reward, and a done flag\n",
    "                ## Indicating whether the 'next_state' is terminal or not\n",
    "                V[s] += prob * (reward + gamma*prev_V[next_state] * (not done))\n",
    "                ## Done flag  is used to ensure the value of the next_state when landing on the terminal\n",
    "                ##state is zero. We don't want infinite sum\n",
    "        if np.max(np.abs(prev_V - V)) < theta:\n",
    "            break\n",
    "        \n",
    "        prev_V = V.copy()\n",
    "    \n",
    "    return V\n",
    "                  "
   ]
  },
  {
   "cell_type": "code",
   "execution_count": null,
   "id": "42936427",
   "metadata": {},
   "outputs": [],
   "source": []
  }
 ],
 "metadata": {
  "kernelspec": {
   "display_name": "Python 3",
   "language": "python",
   "name": "python3"
  },
  "language_info": {
   "codemirror_mode": {
    "name": "ipython",
    "version": 3
   },
   "file_extension": ".py",
   "mimetype": "text/x-python",
   "name": "python",
   "nbconvert_exporter": "python",
   "pygments_lexer": "ipython3",
   "version": "3.8.8"
  }
 },
 "nbformat": 4,
 "nbformat_minor": 5
}
